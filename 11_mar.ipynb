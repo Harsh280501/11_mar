{
 "cells": [
  {
   "cell_type": "markdown",
   "id": "eaf8d18d-dab1-4e68-8b60-e53408bc1a8f",
   "metadata": {},
   "source": [
    "Q1: What is the difference between a t-test and a z-test? Provide an example scenario where you would\n",
    "use each type of test."
   ]
  },
  {
   "cell_type": "markdown",
   "id": "d4ecaca0-68e5-48c3-b031-a25dcbac12ae",
   "metadata": {},
   "source": [
    "A t-test and a z-test are both statistical tests used to make inferences about population parameters based on sample data, but they are used under different circumstances.\n",
    "\n",
    "A z-test is used when the population standard deviation is known and the sample size is large, typically more than 30. For example, a researcher wants to test whether the average height of all men in the United States is 70 inches. They take a random sample of 100 men and find that the average height is 71 inches with a standard deviation of 2 inches. Since the sample size is large, a z-test can be used to determine whether the difference between the sample mean and the population mean is statistically significant.\n",
    "\n",
    "A t-test is used when the population standard deviation is unknown and the sample size is small, typically less than 30. For example, a researcher wants to test whether a new medication is effective in reducing cholesterol levels. They randomly select 20 individuals and give them the medication for a month. They measure their cholesterol levels before and after the treatment and want to determine if there is a significant difference. Since the sample size is small and the population standard deviation is unknown, a t-test can be used to make this determination."
   ]
  },
  {
   "cell_type": "code",
   "execution_count": null,
   "id": "fc818953-b0c5-4848-9df0-847817ee4fb9",
   "metadata": {},
   "outputs": [],
   "source": []
  },
  {
   "cell_type": "markdown",
   "id": "ef85fddf-2b92-4000-9273-77321795edaa",
   "metadata": {},
   "source": [
    "Q2: Differentiate between one-tailed and two-tailed tests."
   ]
  },
  {
   "cell_type": "markdown",
   "id": "3252ac0c-733a-459c-94b2-6805030982c0",
   "metadata": {},
   "source": [
    "In hypothesis testing, a one-tailed test is a statistical test in which the alternative hypothesis specifies the direction of the difference between the sample mean and the hypothesized population mean. In other words, the alternative hypothesis only considers one direction of the difference. For example, a one-tailed test could be used to test whether a new drug is better than an existing drug, with the alternative hypothesis being that the new drug has a higher efficacy than the existing drug. The null hypothesis, in this case, would be that there is no difference or the existing drug is better.\n",
    "\n",
    "On the other hand, a two-tailed test is a statistical test in which the alternative hypothesis considers both directions of the difference between the sample mean and the hypothesized population mean. For example, a two-tailed test could be used to test whether a coin is fair or not, with the alternative hypothesis being that the coin is not fair, either it is biased towards heads or tails. The null hypothesis, in this case, would be that the coin is fair.\n",
    "\n"
   ]
  },
  {
   "cell_type": "code",
   "execution_count": null,
   "id": "a77a1142-9c5d-4405-9156-c961691a877a",
   "metadata": {},
   "outputs": [],
   "source": []
  },
  {
   "cell_type": "markdown",
   "id": "5c3ffca2-c87f-4ba9-ab12-ae9f53db6d55",
   "metadata": {},
   "source": [
    "Q3: Explain the concept of Type 1 and Type 2 errors in hypothesis testing. Provide an example scenario for\n",
    "each type of error."
   ]
  },
  {
   "cell_type": "markdown",
   "id": "3a54666e-9a44-4894-8e9b-de788c4f5cde",
   "metadata": {},
   "source": [
    "In hypothesis testing, a Type 1 error occurs when the null hypothesis is rejected when it is actually true. This is also known as a false positive. The probability of making a Type 1 error is denoted by alpha (α) and is typically set at 0.05, which means there is a 5% chance of making a Type 1 error. Type 1 errors can occur due to various reasons such as a small sample size, improper selection of the significance level, and using an inappropriate statistical test.\n",
    "\n",
    "A Type 2 error, on the other hand, occurs when the null hypothesis is not rejected when it is actually false. This is also known as a false negative. The probability of making a Type 2 error is denoted by beta (β). Type 2 errors can occur due to various reasons such as a large sample size, improper selection of the significance level, and using an inappropriate statistical test."
   ]
  },
  {
   "cell_type": "code",
   "execution_count": null,
   "id": "d3701f1d-c094-4e4a-9c84-8e010216bedf",
   "metadata": {},
   "outputs": [],
   "source": []
  },
  {
   "cell_type": "markdown",
   "id": "250047f5-c875-4d01-8fa7-ab645da432fa",
   "metadata": {},
   "source": [
    "Q4: Explain Bayes's theorem with an example."
   ]
  },
  {
   "cell_type": "markdown",
   "id": "958d6d69-8ad6-4be6-bbbc-c69b37275dad",
   "metadata": {},
   "source": [
    "The theorem states that the probability of a hypothesis (H) given the evidence (E) is proportional to the probability of the evidence given the hypothesis multiplied by the prior probability of the hypothesis. This can be written as:\n",
    "\n",
    "P(H|E) = P(E|H) * P(H) / P(E)\n",
    "\n",
    "where P(H|E) is the posterior probability of the hypothesis given the evidence, P(E|H) is the likelihood of the evidence given the hypothesis, P(H) is the prior probability of the hypothesis, and P(E) is the marginal probability of the evidence\n",
    "\n",
    "To illustrate Bayes's theorem, let's consider an example of medical diagnosis. Suppose a patient is tested for a rare disease, and the test has a false-positive rate of 2% and a false-negative rate of 1%. This means that if the patient has the disease, there is a 99% chance that the test will be positive, and if the patient does not have the disease, there is a 2% chance that the test will be positive.\n",
    "\n",
    "P(E|H) = 0.99 (the likelihood of the test being positive if the patient has the disease)\n",
    "P(H) = 0.001 (the prior probability of the patient having the disease)\n",
    "P(E) = P(E|H) * P(H) + P(E|not H) * P(not H)\n",
    "= 0.99 * 0.001 + 0.02 * 0.999\n",
    "= 0.02077 (the marginal probability of the evidence)\n",
    "\n",
    "Therefore,\n",
    "\n",
    "P(H|E) = P(E|H) * P(H) / P(E)\n",
    "= 0.99 * 0.001 / 0.02077\n",
    "= 0.0476 (the posterior probability of the patient having the disease given the test is positive)"
   ]
  },
  {
   "cell_type": "code",
   "execution_count": null,
   "id": "6b251a2e-5fdd-44ba-92cf-bac1b4991939",
   "metadata": {},
   "outputs": [],
   "source": []
  },
  {
   "cell_type": "markdown",
   "id": "70142387-7915-4ae5-aeed-fa32a6eff9d0",
   "metadata": {},
   "source": [
    "Q5: What is a confidence interval? How to calculate the confidence interval, explain with an example."
   ]
  },
  {
   "cell_type": "markdown",
   "id": "39f2d1a1-35ff-4896-8d13-9baffa7e56c0",
   "metadata": {},
   "source": [
    "A confidence interval is a range of values around a sample estimate that is likely to contain the true population parameter with a certain level of confidence. It provides a measure of the precision and uncertainty associated with the estimate.\n",
    "\n",
    "Confidence intervals are commonly used in statistical inference and hypothesis testing. The level of confidence represents the probability that the true parameter lies within the interval. The most common levels of confidence are 90%, 95%, and 99%."
   ]
  },
  {
   "cell_type": "code",
   "execution_count": null,
   "id": "b4989c8d-b800-41cb-890a-6c71838f67ff",
   "metadata": {},
   "outputs": [],
   "source": []
  },
  {
   "cell_type": "markdown",
   "id": "08f0446e-754a-478d-a862-847db0828789",
   "metadata": {},
   "source": [
    "Q6. Use Bayes' Theorem to calculate the probability of an event occurring given prior knowledge of the\n",
    "event's probability and new evidence. Provide a sample problem and solution."
   ]
  },
  {
   "cell_type": "markdown",
   "id": "bc341b1c-7ad9-43e9-af0b-538e50046bdc",
   "metadata": {},
   "source": [
    "Suppose that a factory produces two types of products, A and B, with a production ratio of 3:2. Product A has a defect rate of 5%, while product B has a defect rate of 10%. A randomly selected product is found to be defective. What is the probability that it is product A?\n",
    "\n",
    "To solve this problem using Bayes' theorem, we can define the following events:\n",
    "\n",
    "H: the selected product is product A\n",
    "not H: the selected product is product B\n",
    "E: the selected product is defective\n",
    "We are given the prior probability of H, which is P(H) = 0.6, and the prior probability of not H, which is P(not H) = 0.4, based on the production ratio. We also know the conditional probabilities of E given H and not H, which are P(E|H) = 0.05 and P(E|not H) = 0.1, respectively.\n",
    "\n",
    "Using Bayes' theorem, we can calculate the posterior probability of H given E, which is the probability that the selected product is product A given that it is defective:\n",
    "\n",
    "P(H|E) = P(E|H) * P(H) / [P(E|H) * P(H) + P(E|not H) * P(not H)]\n",
    "\n",
    "Plugging in the values, we get:\n",
    "\n",
    "P(H|E) = 0.05 * 0.6 / [0.05 * 0.6 + 0.1 * 0.4]\n",
    "= 0.3333"
   ]
  },
  {
   "cell_type": "code",
   "execution_count": null,
   "id": "39d6e651-c780-41fa-8937-b42d99f8d939",
   "metadata": {},
   "outputs": [],
   "source": []
  },
  {
   "cell_type": "markdown",
   "id": "98f60001-967e-4650-9c19-e3b99d28a85b",
   "metadata": {},
   "source": [
    "Q7. Calculate the 95% confidence interval for a sample of data with a mean of 50 and a standard deviation\n",
    "of 5. Interpret the results."
   ]
  },
  {
   "cell_type": "code",
   "execution_count": 1,
   "id": "2d383109-1317-43d6-9132-7d9bd01e4e42",
   "metadata": {},
   "outputs": [
    {
     "name": "stdout",
     "output_type": "stream",
     "text": [
      "The 95% confidence interval is: (48.61, 51.39)\n"
     ]
    }
   ],
   "source": [
    "import scipy.stats as stats\n",
    "\n",
    "sample_mean = 50\n",
    "sample_std = 5\n",
    "sample_size = 50\n",
    "\n",
    "# Calculate the standard error of the mean\n",
    "std_error = sample_std / (sample_size ** 0.5)\n",
    "\n",
    "# Calculate the critical value for a 95% confidence interval\n",
    "crit_value = stats.norm.ppf(0.975)\n",
    "\n",
    "# Calculate the confidence interval\n",
    "lower_bound = sample_mean - crit_value * std_error\n",
    "upper_bound = sample_mean + crit_value * std_error\n",
    "\n",
    "# Print the results\n",
    "print(\"The 95% confidence interval is: ({:.2f}, {:.2f})\".format(lower_bound, upper_bound))\n"
   ]
  },
  {
   "cell_type": "code",
   "execution_count": null,
   "id": "056cd5c7-dc31-4bc3-8d79-e624b1b277e8",
   "metadata": {},
   "outputs": [],
   "source": []
  },
  {
   "cell_type": "markdown",
   "id": "b3c28e19-2016-4bb4-9e35-736434f26190",
   "metadata": {},
   "source": [
    "Q8. What is the margin of error in a confidence interval? How does sample size affect the margin of error?\n",
    "Provide an example of a scenario where a larger sample size would result in a smaller margin of error."
   ]
  },
  {
   "cell_type": "markdown",
   "id": "320c5ce5-24e8-4488-85d7-0722c7f4e6df",
   "metadata": {},
   "source": [
    "The margin of error in a confidence interval is the amount by which the sample mean may differ from the true population mean. It is calculated by multiplying the critical value (which depends on the level of confidence) by the standard error of the mean."
   ]
  },
  {
   "cell_type": "code",
   "execution_count": null,
   "id": "53ad1863-0909-4a84-8ac7-75c488f67626",
   "metadata": {},
   "outputs": [],
   "source": []
  },
  {
   "cell_type": "markdown",
   "id": "0f37481c-afab-4868-b903-4ea2bc26f778",
   "metadata": {},
   "source": [
    "Q9. Calculate the z-score for a data point with a value of 75, a population mean of 70, and a population\n",
    "standard deviation of 5. Interpret the results."
   ]
  },
  {
   "cell_type": "code",
   "execution_count": 2,
   "id": "242077a2-beec-43cf-b00c-73bc3a95ed5f",
   "metadata": {},
   "outputs": [
    {
     "name": "stdout",
     "output_type": "stream",
     "text": [
      "The z-score for the data point is: 1.0\n"
     ]
    }
   ],
   "source": [
    "data_point = 75\n",
    "pop_mean = 70\n",
    "pop_std = 5\n",
    "\n",
    "z_score = (data_point - pop_mean) / pop_std\n",
    "\n",
    "print(\"The z-score for the data point is:\", z_score)\n"
   ]
  },
  {
   "cell_type": "code",
   "execution_count": null,
   "id": "4a65f9ea-8d42-4066-8bb3-ec10b859cee6",
   "metadata": {},
   "outputs": [],
   "source": []
  },
  {
   "cell_type": "markdown",
   "id": "105c0209-adb5-46dd-a226-d5e1070157a1",
   "metadata": {},
   "source": [
    "Q10. In a study of the effectiveness of a new weight loss drug, a sample of 50 participants lost an average\n",
    "of 6 pounds with a standard deviation of 2.5 pounds. Conduct a hypothesis test to determine if the drug is\n",
    "significantly effective at a 95% confidence level using a t-test."
   ]
  },
  {
   "cell_type": "code",
   "execution_count": 3,
   "id": "be5de842-b2e6-45f2-8f8c-07a3b9ac3fb2",
   "metadata": {},
   "outputs": [
    {
     "name": "stdout",
     "output_type": "stream",
     "text": [
      "t-score: 16.970562748477143\n",
      "critical t-value: 2.009575234489209\n",
      "p-value: 0.0\n",
      "Reject null hypothesis. The drug is significantly effective.\n"
     ]
    }
   ],
   "source": [
    "import scipy.stats as stats\n",
    "\n",
    "sample_mean = 6\n",
    "sample_std = 2.5\n",
    "sample_size = 50\n",
    "pop_mean = 0  # null hypothesis: the drug is not effective\n",
    "alpha = 0.05  # significance level\n",
    "\n",
    "# Calculate the t-score\n",
    "t_score = (sample_mean - pop_mean) / (sample_std / (sample_size ** 0.5))\n",
    "\n",
    "# Calculate the degrees of freedom\n",
    "df = sample_size - 1\n",
    "\n",
    "# Calculate the critical t-value\n",
    "crit_value = stats.t.ppf(1 - alpha/2, df)\n",
    "\n",
    "# Calculate the p-value\n",
    "p_value = (1 - stats.t.cdf(abs(t_score), df)) * 2\n",
    "\n",
    "# Print the results\n",
    "print(\"t-score:\", t_score)\n",
    "print(\"critical t-value:\", crit_value)\n",
    "print(\"p-value:\", p_value)\n",
    "\n",
    "if abs(t_score) > crit_value or p_value < alpha:\n",
    "    print(\"Reject null hypothesis. The drug is significantly effective.\")\n",
    "else:\n",
    "    print(\"Fail to reject null hypothesis. The drug is not significantly effective.\")\n"
   ]
  },
  {
   "cell_type": "code",
   "execution_count": null,
   "id": "48db42dc-491a-4b6a-a319-95ebe514e9bb",
   "metadata": {},
   "outputs": [],
   "source": []
  },
  {
   "cell_type": "markdown",
   "id": "e695bb07-8bd0-4084-86fc-7e9d07891861",
   "metadata": {},
   "source": [
    "Q11. In a survey of 500 people, 65% reported being satisfied with their current job. Calculate the 95%\n",
    "confidence interval for the true proportion of people who are satisfied with their job."
   ]
  },
  {
   "cell_type": "code",
   "execution_count": 4,
   "id": "68bf33b3-88c6-41cc-8cce-329e880a5c7a",
   "metadata": {},
   "outputs": [
    {
     "name": "stdout",
     "output_type": "stream",
     "text": [
      "Sample proportion: 0.65\n",
      "Margin of error: 0.04180746061907883\n",
      "95% Confidence interval: (0.6081925393809212, 0.6918074606190788)\n"
     ]
    }
   ],
   "source": [
    "import scipy.stats as stats\n",
    "import math\n",
    "\n",
    "sample_size = 500\n",
    "sample_proportion = 0.65\n",
    "alpha = 0.05  # significance level\n",
    "\n",
    "# Calculate the standard error\n",
    "se = math.sqrt(sample_proportion*(1-sample_proportion)/sample_size)\n",
    "\n",
    "# Calculate the critical z-value\n",
    "crit_value = stats.norm.ppf(1-alpha/2)\n",
    "\n",
    "# Calculate the margin of error\n",
    "margin_of_error = crit_value * se\n",
    "\n",
    "# Calculate the confidence interval\n",
    "lower_bound = sample_proportion - margin_of_error\n",
    "upper_bound = sample_proportion + margin_of_error\n",
    "\n",
    "# Print the results\n",
    "print(\"Sample proportion:\", sample_proportion)\n",
    "print(\"Margin of error:\", margin_of_error)\n",
    "print(\"95% Confidence interval:\", (lower_bound, upper_bound))\n"
   ]
  },
  {
   "cell_type": "code",
   "execution_count": null,
   "id": "bd553692-9a47-4297-9c0e-8e3294808ec2",
   "metadata": {},
   "outputs": [],
   "source": []
  },
  {
   "cell_type": "markdown",
   "id": "478d59c8-0688-46c5-b2f5-8f31c6e58a3e",
   "metadata": {},
   "source": [
    "Q12. A researcher is testing the effectiveness of two different teaching methods on student performance.\n",
    "Sample A has a mean score of 85 with a standard deviation of 6, while sample B has a mean score of 82\n",
    "with a standard deviation of 5. Conduct a hypothesis test to determine if the two teaching methods have a\n",
    "significant difference in student performance using a t-test with a significance level of 0.01."
   ]
  },
  {
   "cell_type": "code",
   "execution_count": 5,
   "id": "69658561-e248-4ae6-b52a-dd7740d3b5f3",
   "metadata": {},
   "outputs": [
    {
     "name": "stdout",
     "output_type": "stream",
     "text": [
      "Sample A mean: 85\n",
      "Sample B mean: 82\n",
      "Pooled standard deviation: 5.522680508593631\n",
      "t-statistic: 0.5432144762551112\n",
      "Degrees of freedom: 0\n",
      "Critical t-value: nan\n",
      "p-value: nan\n",
      "We fail to reject the null hypothesis and conclude that there is insufficient evidence to suggest a significant difference in student performance between the two teaching methods.\n"
     ]
    }
   ],
   "source": [
    "import scipy.stats as stats\n",
    "\n",
    "sample_A_mean = 85\n",
    "sample_A_sd = 6\n",
    "sample_B_mean = 82\n",
    "sample_B_sd = 5\n",
    "alpha = 0.01  # significance level\n",
    "\n",
    "# Calculate the pooled standard deviation\n",
    "pooled_sd = math.sqrt(((sample_A_sd ** 2) + (sample_B_sd ** 2)) / 2)\n",
    "\n",
    "# Calculate the t-statistic and degrees of freedom\n",
    "t_stat = (sample_A_mean - sample_B_mean) / (pooled_sd * math.sqrt(2 / len([sample_A_mean, sample_B_mean])))\n",
    "df = len([sample_A_mean, sample_B_mean]) - 2\n",
    "\n",
    "# Calculate the critical t-value\n",
    "crit_value = stats.t.ppf(1 - alpha/2, df)\n",
    "\n",
    "# Calculate the p-value\n",
    "p_value = stats.t.sf(abs(t_stat), df) * 2\n",
    "\n",
    "# Print the results\n",
    "print(\"Sample A mean:\", sample_A_mean)\n",
    "print(\"Sample B mean:\", sample_B_mean)\n",
    "print(\"Pooled standard deviation:\", pooled_sd)\n",
    "print(\"t-statistic:\", t_stat)\n",
    "print(\"Degrees of freedom:\", df)\n",
    "print(\"Critical t-value:\", crit_value)\n",
    "print(\"p-value:\", p_value)\n",
    "\n",
    "if p_value < alpha:\n",
    "    print(\"We reject the null hypothesis and conclude that the two teaching methods have a significant difference in student performance.\")\n",
    "else:\n",
    "    print(\"We fail to reject the null hypothesis and conclude that there is insufficient evidence to suggest a significant difference in student performance between the two teaching methods.\")\n"
   ]
  },
  {
   "cell_type": "code",
   "execution_count": null,
   "id": "71dce041-6290-4e92-b069-95bdbe59643e",
   "metadata": {},
   "outputs": [],
   "source": []
  },
  {
   "cell_type": "markdown",
   "id": "cf854118-0f6a-4339-a5e6-e89507c171d3",
   "metadata": {},
   "source": [
    "Q13. A population has a mean of 60 and a standard deviation of 8. A sample of 50 observations has a mean\n",
    "of 65. Calculate the 90% confidence interval for the true population mean."
   ]
  },
  {
   "cell_type": "code",
   "execution_count": 6,
   "id": "0912921e-cd60-432c-87fb-74919d33240a",
   "metadata": {},
   "outputs": [
    {
     "name": "stdout",
     "output_type": "stream",
     "text": [
      "Sample size: 50\n",
      "Sample mean: 65\n",
      "Population mean: 60\n",
      "Population standard deviation: 8\n",
      "Confidence level: 0.9\n",
      "Margin of error: 1.860939445882678\n",
      "Confidence interval: [63.14, 66.86]\n"
     ]
    }
   ],
   "source": [
    "import scipy.stats as stats\n",
    "import math\n",
    "\n",
    "population_mean = 60\n",
    "population_sd = 8\n",
    "sample_size = 50\n",
    "sample_mean = 65\n",
    "confidence_level = 0.90\n",
    "\n",
    "# Calculate the standard error\n",
    "std_error = population_sd / math.sqrt(sample_size)\n",
    "\n",
    "# Calculate the margin of error\n",
    "margin_error = stats.norm.ppf((1 + confidence_level) / 2) * std_error\n",
    "\n",
    "# Calculate the confidence interval\n",
    "lower_bound = sample_mean - margin_error\n",
    "upper_bound = sample_mean + margin_error\n",
    "\n",
    "# Print the results\n",
    "print(\"Sample size:\", sample_size)\n",
    "print(\"Sample mean:\", sample_mean)\n",
    "print(\"Population mean:\", population_mean)\n",
    "print(\"Population standard deviation:\", population_sd)\n",
    "print(\"Confidence level:\", confidence_level)\n",
    "print(\"Margin of error:\", margin_error)\n",
    "print(\"Confidence interval: [{:.2f}, {:.2f}]\".format(lower_bound, upper_bound))\n"
   ]
  },
  {
   "cell_type": "code",
   "execution_count": null,
   "id": "8e0f0fd9-c2b1-4e19-97d6-1dfe30ac670c",
   "metadata": {},
   "outputs": [],
   "source": []
  },
  {
   "cell_type": "markdown",
   "id": "5726a41d-cb25-4b7f-96d3-f9e06d0c1977",
   "metadata": {},
   "source": [
    "Q14. In a study of the effects of caffeine on reaction time, a sample of 30 participants had an average\n",
    "reaction time of 0.25 seconds with a standard deviation of 0.05 seconds. Conduct a hypothesis test to\n",
    "determine if the caffeine has a significant effect on reaction time at a 90% confidence level using a t-test."
   ]
  },
  {
   "cell_type": "code",
   "execution_count": 7,
   "id": "96752570-f59a-49c5-a900-f759e4cb7683",
   "metadata": {},
   "outputs": [
    {
     "name": "stdout",
     "output_type": "stream",
     "text": [
      "Fail to reject the null hypothesis. Caffeine has no significant effect on reaction time.\n"
     ]
    }
   ],
   "source": [
    "import scipy.stats as stats\n",
    "\n",
    "sample_size = 30\n",
    "sample_mean = 0.25\n",
    "sample_sd = 0.05\n",
    "confidence_level = 0.90\n",
    "\n",
    "# Set up the null and alternative hypotheses\n",
    "# Null hypothesis: Caffeine has no significant effect on reaction time (mu = 0.25)\n",
    "# Alternative hypothesis: Caffeine has a significant effect on reaction time (mu < 0.25)\n",
    "null_hypothesis_mu = 0.25\n",
    "alpha = 1 - confidence_level\n",
    "\n",
    "# Calculate the t-statistic and p-value\n",
    "t_statistic = (sample_mean - null_hypothesis_mu) / (sample_sd / (sample_size ** 0.5))\n",
    "p_value = stats.t.cdf(t_statistic, df=sample_size-1)\n",
    "\n",
    "# Compare p-value with alpha\n",
    "if p_value < alpha:\n",
    "    print(\"Reject the null hypothesis. Caffeine has a significant effect on reaction time.\")\n",
    "else:\n",
    "    print(\"Fail to reject the null hypothesis. Caffeine has no significant effect on reaction time.\")\n"
   ]
  },
  {
   "cell_type": "code",
   "execution_count": null,
   "id": "4b3a0d0d-2b3e-4916-9946-647bb4989636",
   "metadata": {},
   "outputs": [],
   "source": []
  }
 ],
 "metadata": {
  "kernelspec": {
   "display_name": "Python 3 (ipykernel)",
   "language": "python",
   "name": "python3"
  },
  "language_info": {
   "codemirror_mode": {
    "name": "ipython",
    "version": 3
   },
   "file_extension": ".py",
   "mimetype": "text/x-python",
   "name": "python",
   "nbconvert_exporter": "python",
   "pygments_lexer": "ipython3",
   "version": "3.10.8"
  }
 },
 "nbformat": 4,
 "nbformat_minor": 5
}
